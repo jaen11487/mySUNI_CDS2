{
 "cells": [
  {
   "cell_type": "markdown",
   "metadata": {},
   "source": [
    "# DNN"
   ]
  },
  {
   "cell_type": "markdown",
   "metadata": {},
   "source": [
    "### 상수 값으로 풀어보는 XOR  예제\n",
    "\n",
    "![xor_nn_1](https://user-images.githubusercontent.com/661959/54298177-9e82f080-45fb-11e9-8bdd-1f86718c6f5d.png)\n",
    "\n",
    "\n"
   ]
  },
  {
   "cell_type": "code",
   "execution_count": 1,
   "metadata": {},
   "outputs": [
    {
     "name": "stdout",
     "output_type": "stream",
     "text": [
      "\n",
      "Hypothesis:\n",
      "[[0.01118422]\n",
      " [0.99493575]\n",
      " [0.99493575]\n",
      " [0.02438853]] \n",
      "Predicted:\n",
      "[[0.]\n",
      " [1.]\n",
      " [1.]\n",
      " [0.]] \n",
      "Accuracy:\n",
      "1.0\n"
     ]
    }
   ],
   "source": [
    "import tensorflow as tf\n",
    "import numpy as np\n",
    "\n",
    "X = np.array([[0, 0], [0, 1], [1, 0], [1, 1]], dtype=np.float32)\n",
    "Y = np.array([[0], [1], [1], [0]], dtype=np.float32)\n",
    "\n",
    "\n",
    "W1 = tf.Variable(np.array([[5,-7], [5,-7]], dtype=np.float32), name='weight1')\n",
    "b1 = tf.Variable(np.array([[-8, 3]], dtype=np.float32), name='bias1')\n",
    "L1 = tf.sigmoid(tf.matmul(X, W1) + b1)\n",
    "\n",
    "W2 = tf.Variable(np.array([[-11],[-11]], dtype=np.float32), name='weight2')\n",
    "b2 = tf.Variable(np.array([6], dtype=np.float32), name='bias2')\n",
    "hypothesis = tf.sigmoid(tf.matmul(L1, W2) + b2)\n",
    "\n",
    "predicted = tf.cast(hypothesis > 0.5, dtype=tf.float32)\n",
    "accuracy = np.mean(predicted == Y)\n",
    "\n",
    "print(f\"\\nHypothesis:\\n{hypothesis} \\nPredicted:\\n{predicted} \\nAccuracy:\\n{accuracy}\")"
   ]
  },
  {
   "cell_type": "markdown",
   "metadata": {},
   "source": [
    "#### XOR 문제 MLP 학습 예제\n",
    "* 앞서 상수로 풀었던 XOR 문제를 MLP 학습으로 해결"
   ]
  },
  {
   "cell_type": "code",
   "execution_count": 2,
   "metadata": {},
   "outputs": [
    {
     "name": "stdout",
     "output_type": "stream",
     "text": [
      "step:0,\t cost:0.694770336151123\n",
      "step:500,\t cost:0.6929008960723877\n",
      "step:1000,\t cost:0.6907983422279358\n",
      "step:1500,\t cost:0.6856606602668762\n",
      "step:2000,\t cost:0.6681321859359741\n",
      "step:2500,\t cost:0.6143725514411926\n",
      "step:3000,\t cost:0.5017193555831909\n",
      "step:3500,\t cost:0.3041874170303345\n",
      "step:4000,\t cost:0.1625085175037384\n",
      "step:4500,\t cost:0.10023443400859833\n",
      "step:5000,\t cost:0.07013194262981415\n",
      "step:5500,\t cost:0.05320872366428375\n",
      "step:6000,\t cost:0.04257518798112869\n",
      "step:6500,\t cost:0.035346753895282745\n",
      "step:7000,\t cost:0.030143652111291885\n",
      "step:7500,\t cost:0.026233481243252754\n",
      "step:8000,\t cost:0.023195073008537292\n",
      "step:8500,\t cost:0.020770307630300522\n",
      "step:9000,\t cost:0.018792886286973953\n",
      "step:9500,\t cost:0.017151042819023132\n",
      "step:10000,\t cost:0.015767065808176994\n",
      "Hypothesis:[[0.01526495]\n",
      " [0.9791965 ]\n",
      " [0.98642075]\n",
      " [0.01290688]] \n",
      "Predicted:[[0.]\n",
      " [1.]\n",
      " [1.]\n",
      " [0.]] \n",
      "Accuracy:1.0\n",
      "w1:[[ 6.049176  6.122585]\n",
      " [-5.760253 -6.277827]], b1:[ 2.8576012 -3.321048 ], w2:[[-9.3568  ]\n",
      " [ 9.868225]], b2[4.337876]\n"
     ]
    }
   ],
   "source": [
    "import tensorflow as tf\n",
    "import numpy as np\n",
    "tf.random.set_seed(777)\n",
    "\n",
    "X = np.array([[0, 0], [0, 1], [1, 0], [1, 1]], dtype=np.float32)\n",
    "y = np.array([[0], [1], [1], [0]], dtype=np.float32)\n",
    "\n",
    "W1 = tf.Variable(tf.random.normal([2, 2], seed=0))\n",
    "b1 = tf.Variable(tf.random.normal([2], seed=0))\n",
    "\n",
    "W2 = tf.Variable(tf.random.normal([2, 1], seed=0))\n",
    "b2 = tf.Variable(tf.random.normal([1], seed=0))\n",
    "\n",
    "lr = 0.1\n",
    "for step in range(10001):\n",
    "    with tf.GradientTape() as tape:\n",
    "        layer1 = tf.sigmoid(tf.matmul(X, W1) + b1)\n",
    "        hypothesis = tf.sigmoid(tf.matmul(layer1, W2) + b2)\n",
    "        cost = tf.reduce_mean(tf.keras.losses.binary_crossentropy(y, hypothesis))\n",
    "        d_W1, d_b1, d_W2, d_b2 = tape.gradient(cost, [W1, b1, W2, b2] )\n",
    "        W1.assign_sub(d_W1 * lr)\n",
    "        b1.assign_sub(d_b1 * lr)\n",
    "        W2.assign_sub(d_W2 * lr)\n",
    "        b2.assign_sub(d_b2 * lr)\n",
    "        if step % 500 == 0:\n",
    "            print(f\"step:{step},\\t cost:{cost}\")\n",
    "\n",
    "predicted = tf.cast(hypothesis > 0.5, dtype=tf.float32)\n",
    "accuracy = np.mean(predicted == Y)\n",
    "\n",
    "print(f\"Hypothesis:{hypothesis} \\nPredicted:{predicted} \\nAccuracy:{accuracy}\")\n",
    "print(f\"w1:{W1.numpy()}, b1:{b1.numpy()}, w2:{W2.numpy()}, b2{b2.numpy()}\")\n"
   ]
  },
  {
   "cell_type": "markdown",
   "metadata": {},
   "source": [
    "### Optimizer 적용"
   ]
  },
  {
   "cell_type": "code",
   "execution_count": 4,
   "metadata": {},
   "outputs": [
    {
     "name": "stdout",
     "output_type": "stream",
     "text": [
      "step:0,\t cost:0.694770336151123\n",
      "step:500,\t cost:0.6866353750228882\n",
      "step:1000,\t cost:0.6217808723449707\n",
      "step:1500,\t cost:0.47173699736595154\n",
      "step:2000,\t cost:0.35258468985557556\n",
      "step:2500,\t cost:0.2675658166408539\n",
      "step:3000,\t cost:0.20677727460861206\n",
      "step:3500,\t cost:0.1624651551246643\n",
      "step:4000,\t cost:0.12943826615810394\n",
      "step:4500,\t cost:0.1043068990111351\n",
      "step:5000,\t cost:0.08483567833900452\n",
      "Hypothesis:[[0.08504632]\n",
      " [0.9485386 ]\n",
      " [0.88753384]\n",
      " [0.07533152]] \n",
      "Predicted:[[0.]\n",
      " [1.]\n",
      " [1.]\n",
      " [0.]] \n",
      "Accuracy:1.0\n",
      "w1:[[ 4.985145   5.5098476]\n",
      " [-4.8044515 -5.8524776]], b1:[ 3.0071926 -2.8788571], w2:[[-6.880319 ]\n",
      " [ 5.4160395]], b2[3.8919582]\n"
     ]
    }
   ],
   "source": [
    "import tensorflow as tf\n",
    "import numpy as np\n",
    "tf.random.set_seed(777)\n",
    "\n",
    "X = np.array([[0, 0], [0, 1], [1, 0], [1, 1]], dtype=np.float32)\n",
    "y = np.array([[0], [1], [1], [0]], dtype=np.float32)\n",
    "\n",
    "W1 = tf.Variable(tf.random.normal([2, 2], seed=0))\n",
    "b1 = tf.Variable(tf.random.normal([2], seed=0))\n",
    "\n",
    "W2 = tf.Variable(tf.random.normal([2, 1], seed=0))\n",
    "b2 = tf.Variable(tf.random.normal([1], seed=0))\n",
    "\n",
    "lr = 0.001\n",
    "opt = tf.keras.optimizers.Adam(lr)\n",
    "for step in range(5001):\n",
    "    with tf.GradientTape() as tape:\n",
    "        layer1 = tf.sigmoid(tf.matmul(X, W1) + b1)\n",
    "        hypothesis = tf.sigmoid(tf.matmul(layer1, W2) + b2)\n",
    "        cost = tf.reduce_mean(tf.keras.losses.binary_crossentropy(y, hypothesis))\n",
    "        d_W1, d_b1, d_W2, d_b2 = tape.gradient(cost, [W1, b1, W2, b2] )\n",
    "        \n",
    "        opt.apply_gradients(zip([d_W1, d_b1, d_W2, d_b2], [W1, b1, W2, b2]))\n",
    "        if step % 500 == 0:\n",
    "            print(f\"step:{step},\\t cost:{cost}\")\n",
    "\n",
    "predicted = tf.cast(hypothesis > 0.5, dtype=tf.float32)\n",
    "accuracy = np.mean(predicted == Y)\n",
    "\n",
    "print(f\"Hypothesis:{hypothesis} \\nPredicted:{predicted} \\nAccuracy:{accuracy}\")\n",
    "print(f\"w1:{W1.numpy()}, b1:{b1.numpy()}, w2:{W2.numpy()}, b2{b2.numpy()}\")\n"
   ]
  },
  {
   "cell_type": "markdown",
   "metadata": {},
   "source": [
    "## Keras로 XOR 문제 해결하기\n"
   ]
  },
  {
   "cell_type": "code",
   "execution_count": 5,
   "metadata": {},
   "outputs": [
    {
     "name": "stdout",
     "output_type": "stream",
     "text": [
      "Model: \"sequential\"\n",
      "_________________________________________________________________\n",
      "Layer (type)                 Output Shape              Param #   \n",
      "=================================================================\n",
      "dense (Dense)                (None, 2)                 6         \n",
      "_________________________________________________________________\n",
      "dense_1 (Dense)              (None, 1)                 3         \n",
      "=================================================================\n",
      "Total params: 9\n",
      "Trainable params: 9\n",
      "Non-trainable params: 0\n",
      "_________________________________________________________________\n",
      "4/4 [==============================] - 0s 12ms/sample - loss: 0.0965 - binary_accuracy: 1.0000\n"
     ]
    },
    {
     "data": {
      "text/plain": [
       "[0.0964551568031311, 1.0]"
      ]
     },
     "execution_count": 5,
     "metadata": {},
     "output_type": "execute_result"
    }
   ],
   "source": [
    "import tensorflow as tf\n",
    "import numpy as np\n",
    "tf.random.set_seed(777)\n",
    "\n",
    "X = np.array([[0, 0], [0, 1], [1, 0], [1, 1]], dtype=np.float32)\n",
    "y = np.array([0, 1, 1, 0], dtype=np.float32)\n",
    "\n",
    "model = tf.keras.Sequential([\n",
    "    tf.keras.layers.Dense(2, activation=tf.sigmoid, input_shape=(2,)),\n",
    "    tf.keras.layers.Dense(1, activation=tf.sigmoid)\n",
    "])\n",
    "model.summary()\n",
    "opt = tf.keras.optimizers.Adam()\n",
    "model.compile(loss=tf.keras.losses.binary_crossentropy,\n",
    "              optimizer=opt,\n",
    "              metrics=[tf.keras.metrics.BinaryAccuracy()])\n",
    "model.fit(X, y, epochs=5000, verbose=0)\n",
    "model.evaluate(X, y)"
   ]
  },
  {
   "attachments": {},
   "cell_type": "markdown",
   "metadata": {},
   "source": [
    "### Keras 문자열 설정 실습 – XOR 문제"
   ]
  },
  {
   "cell_type": "code",
   "execution_count": 6,
   "metadata": {},
   "outputs": [
    {
     "name": "stdout",
     "output_type": "stream",
     "text": [
      "Model: \"sequential_1\"\n",
      "_________________________________________________________________\n",
      "Layer (type)                 Output Shape              Param #   \n",
      "=================================================================\n",
      "dense_2 (Dense)              (None, 2)                 6         \n",
      "_________________________________________________________________\n",
      "dense_3 (Dense)              (None, 1)                 3         \n",
      "=================================================================\n",
      "Total params: 9\n",
      "Trainable params: 9\n",
      "Non-trainable params: 0\n",
      "_________________________________________________________________\n",
      "4/4 [==============================] - 0s 13ms/sample - loss: 0.0965 - accuracy: 1.0000\n"
     ]
    },
    {
     "data": {
      "text/plain": [
       "[0.0964551568031311, 1.0]"
      ]
     },
     "execution_count": 6,
     "metadata": {},
     "output_type": "execute_result"
    }
   ],
   "source": [
    "import tensorflow as tf\n",
    "import numpy as np\n",
    "tf.random.set_seed(777)\n",
    "\n",
    "X = np.array([[0, 0], [0, 1], [1, 0], [1, 1]], dtype=np.float32)\n",
    "y = np.array([0, 1, 1, 0], dtype=np.float32)\n",
    "\n",
    "model = tf.keras.Sequential([\n",
    "    tf.keras.layers.Dense(2, activation='sigmoid', input_shape=(2,)),\n",
    "    tf.keras.layers.Dense(1, activation='sigmoid')\n",
    "])\n",
    "model.summary()\n",
    "model.compile(loss='binary_crossentropy', optimizer='Adam', metrics=['accuracy'])\n",
    "model.fit(X, y, epochs=5000, verbose=0)\n",
    "model.evaluate(X, y)"
   ]
  },
  {
   "attachments": {},
   "cell_type": "markdown",
   "metadata": {},
   "source": [
    "## 회귀 문제 실습 – 보스턴 주택 가격"
   ]
  },
  {
   "cell_type": "code",
   "execution_count": 7,
   "metadata": {
    "scrolled": true
   },
   "outputs": [
    {
     "name": "stdout",
     "output_type": "stream",
     "text": [
      "(404, 13) (102, 13)\n",
      "Train on 323 samples, validate on 81 samples\n",
      "Epoch 1/50\n",
      "323/323 [==============================] - 0s 1ms/sample - loss: 550.7786 - mae: 21.5394 - val_loss: 588.6596 - val_mae: 22.3338\n",
      "Epoch 2/50\n",
      "323/323 [==============================] - 0s 108us/sample - loss: 501.9073 - mae: 20.2631 - val_loss: 543.3442 - val_mae: 21.2373\n",
      "Epoch 3/50\n",
      "323/323 [==============================] - 0s 108us/sample - loss: 459.5328 - mae: 19.1437 - val_loss: 497.2541 - val_mae: 20.1179\n",
      "Epoch 4/50\n",
      "323/323 [==============================] - 0s 102us/sample - loss: 416.0787 - mae: 17.9597 - val_loss: 446.8388 - val_mae: 18.8110\n",
      "Epoch 5/50\n",
      "323/323 [==============================] - 0s 105us/sample - loss: 369.5291 - mae: 16.6988 - val_loss: 393.9573 - val_mae: 17.4113\n",
      "Epoch 6/50\n",
      "323/323 [==============================] - 0s 108us/sample - loss: 321.7672 - mae: 15.3778 - val_loss: 341.6710 - val_mae: 16.0019\n",
      "Epoch 7/50\n",
      "323/323 [==============================] - 0s 108us/sample - loss: 274.3106 - mae: 14.0434 - val_loss: 288.1790 - val_mae: 14.5097\n",
      "Epoch 8/50\n",
      "323/323 [==============================] - 0s 102us/sample - loss: 226.8523 - mae: 12.5964 - val_loss: 233.8557 - val_mae: 12.8503\n",
      "Epoch 9/50\n",
      "323/323 [==============================] - 0s 108us/sample - loss: 181.4988 - mae: 11.0655 - val_loss: 186.8213 - val_mae: 11.1756\n",
      "Epoch 10/50\n",
      "323/323 [==============================] - 0s 93us/sample - loss: 142.7193 - mae: 9.6351 - val_loss: 144.0776 - val_mae: 9.4475\n",
      "Epoch 11/50\n",
      "323/323 [==============================] - 0s 102us/sample - loss: 110.3047 - mae: 8.2047 - val_loss: 111.8505 - val_mae: 8.0245\n",
      "Epoch 12/50\n",
      "323/323 [==============================] - 0s 99us/sample - loss: 86.3612 - mae: 7.0532 - val_loss: 86.4748 - val_mae: 6.9270\n",
      "Epoch 13/50\n",
      "323/323 [==============================] - 0s 105us/sample - loss: 68.8175 - mae: 6.2898 - val_loss: 68.6005 - val_mae: 6.2081\n",
      "Epoch 14/50\n",
      "323/323 [==============================] - 0s 102us/sample - loss: 56.5574 - mae: 5.6904 - val_loss: 56.2625 - val_mae: 5.5706\n",
      "Epoch 15/50\n",
      "323/323 [==============================] - 0s 96us/sample - loss: 47.6358 - mae: 5.1772 - val_loss: 47.4606 - val_mae: 5.0987\n",
      "Epoch 16/50\n",
      "323/323 [==============================] - 0s 93us/sample - loss: 40.9128 - mae: 4.7327 - val_loss: 40.4937 - val_mae: 4.6902\n",
      "Epoch 17/50\n",
      "323/323 [==============================] - 0s 99us/sample - loss: 35.4995 - mae: 4.3642 - val_loss: 34.5978 - val_mae: 4.3589\n",
      "Epoch 18/50\n",
      "323/323 [==============================] - 0s 99us/sample - loss: 31.2409 - mae: 4.0927 - val_loss: 30.3089 - val_mae: 4.0955\n",
      "Epoch 19/50\n",
      "323/323 [==============================] - 0s 102us/sample - loss: 28.1625 - mae: 3.8310 - val_loss: 27.1666 - val_mae: 3.8832\n",
      "Epoch 20/50\n",
      "323/323 [==============================] - 0s 102us/sample - loss: 25.8474 - mae: 3.6874 - val_loss: 25.2232 - val_mae: 3.6227\n",
      "Epoch 21/50\n",
      "323/323 [==============================] - 0s 111us/sample - loss: 24.0984 - mae: 3.4914 - val_loss: 22.8547 - val_mae: 3.5653\n",
      "Epoch 22/50\n",
      "323/323 [==============================] - 0s 117us/sample - loss: 22.4845 - mae: 3.3925 - val_loss: 21.5380 - val_mae: 3.3721\n",
      "Epoch 23/50\n",
      "323/323 [==============================] - 0s 105us/sample - loss: 21.6475 - mae: 3.2758 - val_loss: 20.4955 - val_mae: 3.2702\n",
      "Epoch 24/50\n",
      "323/323 [==============================] - 0s 108us/sample - loss: 20.2537 - mae: 3.1533 - val_loss: 19.8744 - val_mae: 3.2828\n",
      "Epoch 25/50\n",
      "323/323 [==============================] - 0s 108us/sample - loss: 19.4601 - mae: 3.0837 - val_loss: 18.7344 - val_mae: 3.1609\n",
      "Epoch 26/50\n",
      "323/323 [==============================] - 0s 108us/sample - loss: 18.6730 - mae: 3.0006 - val_loss: 18.3103 - val_mae: 3.2216\n",
      "Epoch 27/50\n",
      "323/323 [==============================] - 0s 108us/sample - loss: 17.8467 - mae: 2.9264 - val_loss: 17.6040 - val_mae: 3.0793\n",
      "Epoch 28/50\n",
      "323/323 [==============================] - 0s 111us/sample - loss: 17.3955 - mae: 2.8921 - val_loss: 16.4990 - val_mae: 2.9886\n",
      "Epoch 29/50\n",
      "323/323 [==============================] - 0s 99us/sample - loss: 16.6924 - mae: 2.8511 - val_loss: 16.1339 - val_mae: 2.9769\n",
      "Epoch 30/50\n",
      "323/323 [==============================] - 0s 105us/sample - loss: 15.9311 - mae: 2.7558 - val_loss: 15.5622 - val_mae: 2.8634\n",
      "Epoch 31/50\n",
      "323/323 [==============================] - 0s 102us/sample - loss: 15.7628 - mae: 2.7611 - val_loss: 14.9358 - val_mae: 2.8154\n",
      "Epoch 32/50\n",
      "323/323 [==============================] - 0s 111us/sample - loss: 15.0822 - mae: 2.6823 - val_loss: 14.6524 - val_mae: 2.8392\n",
      "Epoch 33/50\n",
      "323/323 [==============================] - 0s 111us/sample - loss: 14.5127 - mae: 2.6148 - val_loss: 14.2988 - val_mae: 2.8203\n",
      "Epoch 34/50\n",
      "323/323 [==============================] - 0s 117us/sample - loss: 14.0900 - mae: 2.5989 - val_loss: 13.8730 - val_mae: 2.7864\n",
      "Epoch 35/50\n",
      "323/323 [==============================] - 0s 102us/sample - loss: 13.8295 - mae: 2.5630 - val_loss: 13.6412 - val_mae: 2.7400\n",
      "Epoch 36/50\n",
      "323/323 [==============================] - 0s 99us/sample - loss: 13.3307 - mae: 2.5081 - val_loss: 13.2793 - val_mae: 2.6973\n",
      "Epoch 37/50\n",
      "323/323 [==============================] - 0s 102us/sample - loss: 12.8922 - mae: 2.4774 - val_loss: 13.0961 - val_mae: 2.7049\n",
      "Epoch 38/50\n",
      "323/323 [==============================] - 0s 102us/sample - loss: 12.7831 - mae: 2.4770 - val_loss: 12.8391 - val_mae: 2.7052\n",
      "Epoch 39/50\n",
      "323/323 [==============================] - 0s 90us/sample - loss: 12.1041 - mae: 2.3848 - val_loss: 12.6944 - val_mae: 2.6589\n",
      "Epoch 40/50\n",
      "323/323 [==============================] - 0s 102us/sample - loss: 12.2164 - mae: 2.4348 - val_loss: 12.5513 - val_mae: 2.6820\n",
      "Epoch 41/50\n",
      "323/323 [==============================] - 0s 105us/sample - loss: 11.8390 - mae: 2.3675 - val_loss: 12.6109 - val_mae: 2.6203\n",
      "Epoch 42/50\n",
      "323/323 [==============================] - 0s 108us/sample - loss: 11.6386 - mae: 2.3722 - val_loss: 12.7306 - val_mae: 2.5997\n",
      "Epoch 43/50\n",
      "323/323 [==============================] - 0s 99us/sample - loss: 11.5845 - mae: 2.4113 - val_loss: 12.3309 - val_mae: 2.6496\n",
      "Epoch 44/50\n",
      "323/323 [==============================] - 0s 108us/sample - loss: 10.9467 - mae: 2.3405 - val_loss: 12.1098 - val_mae: 2.6182\n",
      "Epoch 45/50\n",
      "323/323 [==============================] - 0s 99us/sample - loss: 10.8120 - mae: 2.2784 - val_loss: 12.6014 - val_mae: 2.5842\n",
      "Epoch 46/50\n",
      "323/323 [==============================] - 0s 99us/sample - loss: 10.7320 - mae: 2.3307 - val_loss: 12.4054 - val_mae: 2.6936\n",
      "Epoch 47/50\n",
      "323/323 [==============================] - 0s 102us/sample - loss: 10.6059 - mae: 2.2639 - val_loss: 12.3520 - val_mae: 2.5802\n",
      "Epoch 48/50\n",
      "323/323 [==============================] - 0s 99us/sample - loss: 10.3570 - mae: 2.2437 - val_loss: 11.9567 - val_mae: 2.5811\n",
      "Epoch 49/50\n",
      "323/323 [==============================] - 0s 99us/sample - loss: 10.3165 - mae: 2.2289 - val_loss: 12.1131 - val_mae: 2.5572\n",
      "Epoch 50/50\n",
      "323/323 [==============================] - 0s 105us/sample - loss: 10.0953 - mae: 2.2287 - val_loss: 12.2965 - val_mae: 2.5829\n",
      "102/102 [==============================] - 0s 117us/sample - loss: 23.7475 - mae: 3.2013\n"
     ]
    },
    {
     "data": {
      "text/plain": [
       "[23.74754243738511, 3.201297]"
      ]
     },
     "execution_count": 7,
     "metadata": {},
     "output_type": "execute_result"
    }
   ],
   "source": [
    "from tensorflow.keras.datasets import boston_housing\n",
    "from tensorflow.keras import models, layers\n",
    "\n",
    "(X_train, y_train), (X_test, y_test) = boston_housing.load_data()\n",
    "print(X_train.shape, X_test.shape)\n",
    "\n",
    "mean = X_train.mean(axis=0)\n",
    "X_train -= mean\n",
    "std = X_train.std(axis=0)\n",
    "X_train /= std \n",
    "\n",
    "X_test -=mean \n",
    "X_test /=std\n",
    "\n",
    "model = models.Sequential()\n",
    "model.add(layers.Dense(64, activation='relu'\n",
    "               , input_shape=(X_train.shape[1],)))\n",
    "model.add(layers.Dense(64, activation='relu'))\n",
    "model.add(layers.Dense(1))\n",
    "model.compile(optimizer='rmsprop', loss='mse',metrics=['mae'])\n",
    "\n",
    "history = model.fit(X_train, y_train ,epochs =50, batch_size=50, validation_split=0.2)\n",
    "model.evaluate(X_test, y_test)"
   ]
  },
  {
   "cell_type": "code",
   "execution_count": 9,
   "metadata": {},
   "outputs": [
    {
     "name": "stdout",
     "output_type": "stream",
     "text": [
      "dict_keys(['loss', 'mae', 'val_loss', 'val_mae'])\n"
     ]
    },
    {
     "data": {
      "image/png": "[encoded data removed]",
      "text/plain": [
       "<Figure size 432x288 with 1 Axes>"
      ]
     },
     "metadata": {
      "needs_background": "light"
     },
     "output_type": "display_data"
    },
    {
     "data": {
      "text/plain": [
       "<matplotlib.legend.Legend at 0x24516169ec8>"
      ]
     },
     "execution_count": 9,
     "metadata": {},
     "output_type": "execute_result"
    },
    {
     "data": {
      "image/png": "[encoded data removed]",
      "text/plain": [
       "<Figure size 432x288 with 1 Axes>"
      ]
     },
     "metadata": {
      "needs_background": "light"
     },
     "output_type": "display_data"
    }
   ],
   "source": [
    "import matplotlib.pyplot as plt\n",
    "\n",
    "print(history.history.keys())\n",
    "mae = history.history['mae']\n",
    "val_mae = history.history['val_mae']\n",
    "loss = history.history['loss']\n",
    "val_loss = history.history['val_loss']\n",
    "\n",
    "epochs = range(1, len(mae) + 1)\n",
    "\n",
    "plt.plot(epochs, loss, label='Training loss')\n",
    "plt.plot(epochs, val_loss, label='Validation loss')\n",
    "plt.title('Training and validation loss')\n",
    "plt.xlabel('Epochs')\n",
    "plt.ylabel('Loss')\n",
    "plt.legend()\n",
    "plt.show()\n",
    "plt.plot(epochs, mae, label='Training mae')\n",
    "plt.plot(epochs, val_mae, label='Validation mae')\n",
    "plt.title('Training and validation mae')\n",
    "plt.xlabel('Epochs')\n",
    "plt.ylabel('Loss')\n",
    "plt.legend()"
   ]
  },
  {
   "cell_type": "markdown",
   "metadata": {},
   "source": [
    "### 이진분류 실습 -  IMDB"
   ]
  },
  {
   "cell_type": "code",
   "execution_count": 10,
   "metadata": {},
   "outputs": [
    {
     "name": "stdout",
     "output_type": "stream",
     "text": [
      "(25000,) (25000,)\n"
     ]
    }
   ],
   "source": [
    "from tensorflow.keras.datasets import imdb\n",
    "\n",
    "(train_data, y_train), (test_data, y_test) = imdb.load_data(num_words = 10000)\n",
    "print(train_data.shape, test_data.shape)"
   ]
  },
  {
   "cell_type": "code",
   "execution_count": 11,
   "metadata": {},
   "outputs": [
    {
     "name": "stdout",
     "output_type": "stream",
     "text": [
      "[list([1, 14, 22, 16, 43, 530, 973, 1622, 1385, 65, 458, 4468, 66, 3941, 4, 173, 36, 256, 5, 25, 100, 43, 838, 112, 50, 670, 2, 9, 35, 480, 284, 5, 150, 4, 172, 112, 167, 2, 336, 385, 39, 4, 172, 4536, 1111, 17, 546, 38, 13, 447, 4, 192, 50, 16, 6, 147, 2025, 19, 14, 22, 4, 1920, 4613, 469, 4, 22, 71, 87, 12, 16, 43, 530, 38, 76, 15, 13, 1247, 4, 22, 17, 515, 17, 12, 16, 626, 18, 2, 5, 62, 386, 12, 8, 316, 8, 106, 5, 4, 2223, 5244, 16, 480, 66, 3785, 33, 4, 130, 12, 16, 38, 619, 5, 25, 124, 51, 36, 135, 48, 25, 1415, 33, 6, 22, 12, 215, 28, 77, 52, 5, 14, 407, 16, 82, 2, 8, 4, 107, 117, 5952, 15, 256, 4, 2, 7, 3766, 5, 723, 36, 71, 43, 530, 476, 26, 400, 317, 46, 7, 4, 2, 1029, 13, 104, 88, 4, 381, 15, 297, 98, 32, 2071, 56, 26, 141, 6, 194, 7486, 18, 4, 226, 22, 21, 134, 476, 26, 480, 5, 144, 30, 5535, 18, 51, 36, 28, 224, 92, 25, 104, 4, 226, 65, 16, 38, 1334, 88, 12, 16, 283, 5, 16, 4472, 113, 103, 32, 15, 16, 5345, 19, 178, 32])\n",
      " list([1, 194, 1153, 194, 8255, 78, 228, 5, 6, 1463, 4369, 5012, 134, 26, 4, 715, 8, 118, 1634, 14, 394, 20, 13, 119, 954, 189, 102, 5, 207, 110, 3103, 21, 14, 69, 188, 8, 30, 23, 7, 4, 249, 126, 93, 4, 114, 9, 2300, 1523, 5, 647, 4, 116, 9, 35, 8163, 4, 229, 9, 340, 1322, 4, 118, 9, 4, 130, 4901, 19, 4, 1002, 5, 89, 29, 952, 46, 37, 4, 455, 9, 45, 43, 38, 1543, 1905, 398, 4, 1649, 26, 6853, 5, 163, 11, 3215, 2, 4, 1153, 9, 194, 775, 7, 8255, 2, 349, 2637, 148, 605, 2, 8003, 15, 123, 125, 68, 2, 6853, 15, 349, 165, 4362, 98, 5, 4, 228, 9, 43, 2, 1157, 15, 299, 120, 5, 120, 174, 11, 220, 175, 136, 50, 9, 4373, 228, 8255, 5, 2, 656, 245, 2350, 5, 4, 9837, 131, 152, 491, 18, 2, 32, 7464, 1212, 14, 9, 6, 371, 78, 22, 625, 64, 1382, 9, 8, 168, 145, 23, 4, 1690, 15, 16, 4, 1355, 5, 28, 6, 52, 154, 462, 33, 89, 78, 285, 16, 145, 95])]\n",
      "[1 0]\n"
     ]
    }
   ],
   "source": [
    "print(train_data[:2])\n",
    "print(y_train[:2])"
   ]
  },
  {
   "cell_type": "code",
   "execution_count": 12,
   "metadata": {},
   "outputs": [
    {
     "data": {
      "text/plain": [
       "\"? this film was just brilliant casting location scenery story direction everyone's really suited the part they played and you could just imagine being there robert ? is an amazing actor and now the same being director ? father came from the same scottish island as myself so i loved the fact there was a real connection with this film the witty remarks throughout the film were great it was just brilliant so much that i bought the film as soon as it was released for ? and would recommend it to everyone to watch and the fly fishing was amazing really cried at the end it was so sad and you know what they say if you cry at a film it must have been good and this definitely was also ? to the two little boy's that played the ? of norman and paul they were just brilliant children are often left out of the ? list i think because the stars that play them all grown up are such a big profile for the whole film but these children are amazing and should be praised for what they have done don't you think the whole story was so lovely because it was true and was someone's life after all that was shared with us all\""
      ]
     },
     "execution_count": 12,
     "metadata": {},
     "output_type": "execute_result"
    }
   ],
   "source": [
    "word_index = imdb.get_word_index()\n",
    "reverse_word_index = dict([(value, key) for (key, value) in word_index.items()])\n",
    "decoded_review = ' '.join([reverse_word_index.get(i -3, '?') for i in train_data[0]])\n",
    "decoded_review"
   ]
  },
  {
   "cell_type": "code",
   "execution_count": 13,
   "metadata": {},
   "outputs": [
    {
     "data": {
      "text/plain": [
       "array([[0., 1., 1., ..., 0., 0., 0.],\n",
       "       [0., 1., 1., ..., 0., 0., 0.],\n",
       "       [0., 1., 1., ..., 0., 0., 0.],\n",
       "       ...,\n",
       "       [0., 1., 1., ..., 0., 0., 0.],\n",
       "       [0., 1., 1., ..., 0., 0., 0.],\n",
       "       [0., 1., 1., ..., 0., 0., 0.]])"
      ]
     },
     "execution_count": 13,
     "metadata": {},
     "output_type": "execute_result"
    }
   ],
   "source": [
    "import numpy as np\n",
    "\n",
    "# 10000개의 단어 중에 review sample에서 사용한 단어만 1로 채우기\n",
    "def vectorize_sequences(sequences, dimension=10000):\n",
    "    results = np.zeros((len(sequences), dimension))\n",
    "    for i, sequence in enumerate(sequences):\n",
    "        results[i, sequence] = 1.\n",
    "    return results\n",
    "\n",
    "X_train = vectorize_sequences(train_data)\n",
    "X_test = vectorize_sequences(test_data)\n",
    "X_train"
   ]
  },
  {
   "cell_type": "code",
   "execution_count": 14,
   "metadata": {},
   "outputs": [
    {
     "name": "stdout",
     "output_type": "stream",
     "text": [
      "Model: \"sequential_3\"\n",
      "_________________________________________________________________\n",
      "Layer (type)                 Output Shape              Param #   \n",
      "=================================================================\n",
      "dense_7 (Dense)              (None, 16)                160016    \n",
      "_________________________________________________________________\n",
      "dense_8 (Dense)              (None, 16)                272       \n",
      "_________________________________________________________________\n",
      "dense_9 (Dense)              (None, 1)                 17        \n",
      "=================================================================\n",
      "Total params: 160,305\n",
      "Trainable params: 160,305\n",
      "Non-trainable params: 0\n",
      "_________________________________________________________________\n",
      "Train on 20000 samples, validate on 5000 samples\n",
      "Epoch 1/20\n",
      "20000/20000 [==============================] - 1s 64us/sample - loss: 0.5028 - accuracy: 0.8102 - val_loss: 0.3728 - val_accuracy: 0.8790\n",
      "Epoch 2/20\n",
      "20000/20000 [==============================] - 1s 43us/sample - loss: 0.2841 - accuracy: 0.9047 - val_loss: 0.2830 - val_accuracy: 0.8944\n",
      "Epoch 3/20\n",
      "20000/20000 [==============================] - 1s 44us/sample - loss: 0.2062 - accuracy: 0.9304 - val_loss: 0.2910 - val_accuracy: 0.8870\n",
      "Epoch 4/20\n",
      "20000/20000 [==============================] - 1s 43us/sample - loss: 0.1694 - accuracy: 0.9428 - val_loss: 0.2784 - val_accuracy: 0.8934\n",
      "Epoch 5/20\n",
      "20000/20000 [==============================] - 1s 44us/sample - loss: 0.1405 - accuracy: 0.9538 - val_loss: 0.2934 - val_accuracy: 0.8918\n",
      "Epoch 6/20\n",
      "20000/20000 [==============================] - 1s 43us/sample - loss: 0.1220 - accuracy: 0.9587 - val_loss: 0.3182 - val_accuracy: 0.8866\n",
      "Epoch 7/20\n",
      "20000/20000 [==============================] - 1s 44us/sample - loss: 0.1023 - accuracy: 0.9671 - val_loss: 0.3536 - val_accuracy: 0.8810\n",
      "Epoch 8/20\n",
      "20000/20000 [==============================] - 1s 44us/sample - loss: 0.0880 - accuracy: 0.9732 - val_loss: 0.3621 - val_accuracy: 0.8818\n",
      "Epoch 9/20\n",
      "20000/20000 [==============================] - 1s 44us/sample - loss: 0.0731 - accuracy: 0.9785 - val_loss: 0.3795 - val_accuracy: 0.8806\n",
      "Epoch 10/20\n",
      "20000/20000 [==============================] - 1s 43us/sample - loss: 0.0636 - accuracy: 0.9827 - val_loss: 0.4049 - val_accuracy: 0.8762\n",
      "Epoch 11/20\n",
      "20000/20000 [==============================] - 1s 43us/sample - loss: 0.0523 - accuracy: 0.9863 - val_loss: 0.5215 - val_accuracy: 0.8608\n",
      "Epoch 12/20\n",
      "20000/20000 [==============================] - 1s 44us/sample - loss: 0.0448 - accuracy: 0.9873 - val_loss: 0.4830 - val_accuracy: 0.8712\n",
      "Epoch 13/20\n",
      "20000/20000 [==============================] - 1s 44us/sample - loss: 0.0385 - accuracy: 0.9900 - val_loss: 0.4992 - val_accuracy: 0.8730\n",
      "Epoch 14/20\n",
      "20000/20000 [==============================] - 1s 44us/sample - loss: 0.0324 - accuracy: 0.9916 - val_loss: 0.5325 - val_accuracy: 0.8710\n",
      "Epoch 15/20\n",
      "20000/20000 [==============================] - 1s 43us/sample - loss: 0.0263 - accuracy: 0.9930 - val_loss: 0.5654 - val_accuracy: 0.8708\n",
      "Epoch 16/20\n",
      "20000/20000 [==============================] - 1s 44us/sample - loss: 0.0194 - accuracy: 0.9959 - val_loss: 0.5983 - val_accuracy: 0.8704\n",
      "Epoch 17/20\n",
      "20000/20000 [==============================] - 1s 44us/sample - loss: 0.0177 - accuracy: 0.9962 - val_loss: 0.6352 - val_accuracy: 0.8718\n",
      "Epoch 18/20\n",
      "20000/20000 [==============================] - 1s 44us/sample - loss: 0.0138 - accuracy: 0.9972 - val_loss: 0.6582 - val_accuracy: 0.8704\n",
      "Epoch 19/20\n",
      "20000/20000 [==============================] - 1s 45us/sample - loss: 0.0124 - accuracy: 0.9971 - val_loss: 0.7003 - val_accuracy: 0.8686\n",
      "Epoch 20/20\n",
      "20000/20000 [==============================] - 1s 42us/sample - loss: 0.0067 - accuracy: 0.9994 - val_loss: 0.7918 - val_accuracy: 0.8596\n"
     ]
    }
   ],
   "source": [
    "from tensorflow.keras import models\n",
    "from tensorflow.keras import layers\n",
    "\n",
    "model = models.Sequential()\n",
    "model.add(layers.Dense(16, activation='relu', input_shape=(10000,)))\n",
    "model.add(layers.Dense(16, activation='relu'))\n",
    "model.add(layers.Dense(1, activation='sigmoid'))\n",
    "model.compile(optimizer = 'rmsprop',\n",
    "             loss='binary_crossentropy',\n",
    "             metrics=['accuracy'])\n",
    "model.summary()\n",
    "history = model.fit(X_train, y_train,\n",
    "                   epochs=20, batch_size=512,\n",
    "                   validation_split=0.2)"
   ]
  },
  {
   "cell_type": "code",
   "execution_count": 15,
   "metadata": {},
   "outputs": [
    {
     "data": {
      "text/plain": [
       "dict_keys(['loss', 'accuracy', 'val_loss', 'val_accuracy'])"
      ]
     },
     "execution_count": 15,
     "metadata": {},
     "output_type": "execute_result"
    }
   ],
   "source": [
    "history_dict = history.history\n",
    "history_dict.keys()"
   ]
  },
  {
   "cell_type": "markdown",
   "metadata": {},
   "source": [
    "#### 시각화로 과적합 확인"
   ]
  },
  {
   "cell_type": "code",
   "execution_count": 16,
   "metadata": {},
   "outputs": [
    {
     "data": {
      "image/png": "[encoded data removed]",
      "text/plain": [
       "<Figure size 432x288 with 1 Axes>"
      ]
     },
     "metadata": {
      "needs_background": "light"
     },
     "output_type": "display_data"
    },
    {
     "data": {
      "image/png": "[encoded data removed]",
      "text/plain": [
       "<Figure size 432x288 with 1 Axes>"
      ]
     },
     "metadata": {
      "needs_background": "light"
     },
     "output_type": "display_data"
    }
   ],
   "source": [
    "import matplotlib.pyplot as plt\n",
    "\n",
    "acc = history.history['accuracy']\n",
    "val_acc = history.history['val_accuracy']\n",
    "loss = history.history['loss']\n",
    "val_loss = history.history['val_loss']\n",
    "\n",
    "epochs = range(1, len(acc) + 1)\n",
    "\n",
    "plt.plot(epochs, loss, label='Training loss')\n",
    "plt.plot(epochs, val_loss, label='Validation loss')\n",
    "plt.title('Training and validation loss')\n",
    "plt.xlabel('Epochs')\n",
    "plt.ylabel('Loss')\n",
    "plt.legend()\n",
    "plt.show()\n",
    "\n",
    "plt.plot(epochs, acc, label='Training acc')\n",
    "plt.plot(epochs, val_acc, label='Validation acc')\n",
    "plt.title('Training and validation accuracy')\n",
    "plt.xlabel('Epochs')\n",
    "plt.ylabel('Accuracy')\n",
    "plt.legend()\n",
    "plt.show()"
   ]
  },
  {
   "cell_type": "markdown",
   "metadata": {},
   "source": [
    "#### Callback"
   ]
  },
  {
   "cell_type": "code",
   "execution_count": 17,
   "metadata": {},
   "outputs": [
    {
     "name": "stdout",
     "output_type": "stream",
     "text": [
      "Train on 10 samples\n",
      "Training: batch 0 begins at 14:07:19.546784\n",
      "Training: batch 0 ends at 14:07:19.751238\n",
      "10/10 [==============================] - 0s 21ms/sample - loss: 108.7213\n",
      "Evaluating: batch 0 begins at 14:07:19.773213\n",
      "Evaluating: batch 0 ends at 14:07:19.809082\n",
      "10/10 [==============================] - 0s 4ms/sample - loss: 108.4152\n"
     ]
    },
    {
     "data": {
      "text/plain": [
       "108.4151611328125"
      ]
     },
     "execution_count": 17,
     "metadata": {},
     "output_type": "execute_result"
    }
   ],
   "source": [
    "import datetime\n",
    "class MyCustomCallback(tf.keras.callbacks.Callback):\n",
    "    def on_train_batch_begin(self, batch, logs=None):\n",
    "        print('Training: batch {} begins at {}'.format(batch, datetime.datetime.now().time()))\n",
    "\n",
    "    def on_train_batch_end(self, batch, logs=None):\n",
    "        print('Training: batch {} ends at {}'.format(batch, datetime.datetime.now().time()))\n",
    "\n",
    "    def on_test_batch_begin(self, batch, logs=None):\n",
    "        print('Evaluating: batch {} begins at {}'.format(batch, datetime.datetime.now().time()))\n",
    "\n",
    "    def on_test_batch_end(self, batch, logs=None):\n",
    "        print('Evaluating: batch {} ends at {}'.format(batch, datetime.datetime.now().time()))\n",
    "\n",
    "cb = MyCustomCallback()\n",
    "x = np.arange(10)\n",
    "y = x * 2\n",
    "    \n",
    "model = tf.keras.Sequential([\n",
    "    tf.keras.layers.Dense(10, input_shape=(1,), activation='relu'),\n",
    "    tf.keras.layers.Dense(1, activation='sigmoid')\n",
    "])\n",
    "model.compile(loss='mse')    \n",
    "model.fit(x,y, callbacks=[cb])\n",
    "model.evaluate(x,y, callbacks=[cb])"
   ]
  },
  {
   "cell_type": "markdown",
   "metadata": {},
   "source": [
    "#### EarlyStopping Callback 적용"
   ]
  },
  {
   "cell_type": "code",
   "execution_count": 19,
   "metadata": {
    "scrolled": true
   },
   "outputs": [
    {
     "name": "stdout",
     "output_type": "stream",
     "text": [
      "Train on 20000 samples, validate on 5000 samples\n",
      "Epoch 1/20\n",
      "20000/20000 [==============================] - 1s 74us/sample - loss: 0.4639 - accuracy: 0.7894 - val_loss: 0.3019 - val_accuracy: 0.8904\n",
      "Epoch 2/20\n",
      "20000/20000 [==============================] - 1s 46us/sample - loss: 0.2520 - accuracy: 0.9061 - val_loss: 0.2718 - val_accuracy: 0.8940\n",
      "Epoch 3/20\n",
      "20000/20000 [==============================] - 1s 47us/sample - loss: 0.1879 - accuracy: 0.9326 - val_loss: 0.2976 - val_accuracy: 0.8894\n",
      "Epoch 4/20\n",
      "20000/20000 [==============================] - 1s 45us/sample - loss: 0.1527 - accuracy: 0.9418 - val_loss: 0.3212 - val_accuracy: 0.8860\n",
      "25000/25000 [==============================] - 2s 97us/sample - loss: 0.3310 - accuracy: 0.8765\n"
     ]
    }
   ],
   "source": [
    "model = models.Sequential()\n",
    "model.add(layers.Dense(64, activation='relu', input_shape=(10000,)))\n",
    "model.add(layers.Dense(32, activation='relu'))\n",
    "model.add(layers.Dense(16, activation='relu'))\n",
    "model.add(layers.Dense(1, activation='sigmoid'))\n",
    "model.compile(optimizer='rmsprop', loss='binary_crossentropy',\n",
    "             metrics=['accuracy'])\n",
    "cb = tf.keras.callbacks.EarlyStopping(monitor='val_loss', patience=2)\n",
    "model.fit(X_train, y_train, epochs=20, batch_size=512, callbacks=[cb],  validation_split=0.2)\n",
    "results = model.evaluate(X_test, y_test)"
   ]
  },
  {
   "cell_type": "markdown",
   "metadata": {},
   "source": [
    "### 다항 분류 실습 -  MNIST 손글씨\n",
    "#### Data loading"
   ]
  },
  {
   "cell_type": "code",
   "execution_count": 21,
   "metadata": {},
   "outputs": [
    {
     "name": "stdout",
     "output_type": "stream",
     "text": [
      "<class 'tuple'> 2\n",
      "(60000, 28, 28) (10000,)\n",
      "(10000, 28, 28) (10000,)\n",
      "[5 0 4 1 9]\n"
     ]
    },
    {
     "data": {
      "image/png": "[encoded data removed]",
      "text/plain": [
       "<Figure size 432x288 with 5 Axes>"
      ]
     },
     "metadata": {
      "needs_background": "light"
     },
     "output_type": "display_data"
    }
   ],
   "source": [
    "import tensorflow as tf\n",
    "import matplotlib.pyplot as plt\n",
    "import numpy as np\n",
    "\n",
    "mnist = tf.keras.datasets.mnist.load_data()\n",
    "print(type(mnist), len(mnist))\n",
    "\n",
    "(X_train, y_train), (X_test, y_test) = mnist\n",
    "print(X_train.shape, y_test.shape)\n",
    "print(X_test.shape, y_test.shape)\n",
    "\n",
    "print(y_train[:5])\n",
    "for i in range(5):\n",
    "    plt.subplot(1,5,i+1)\n",
    "    plt.imshow(X_train[i], cmap=\"gray\")\n"
   ]
  },
  {
   "cell_type": "markdown",
   "metadata": {},
   "source": [
    "#### Data preprocessing\n",
    "* 정규화(Normalization)\n",
    "    * 픽셀 데이타 : 0 ~ 255\n",
    "    * 정규화 데이타 : 0 ~ 1  \n",
    "* 2차원 이미지를 1차원으로 변경\n",
    "    * (28,28)\n",
    "    * (784)"
   ]
  },
  {
   "cell_type": "code",
   "execution_count": 22,
   "metadata": {},
   "outputs": [],
   "source": [
    "(X_train, y_train), (X_test, y_test) = tf.keras.datasets.mnist.load_data()\n",
    "(X_train, X_test) = (np.float32(X_train)/255, np.float32(X_test)/255)\n",
    "\n",
    "n_input = 28*28\n",
    "(X_train, X_test) = (X_train.reshape(-1, n_input), X_test.reshape(-1, n_input))"
   ]
  },
  {
   "cell_type": "markdown",
   "metadata": {},
   "source": [
    "#### Neural Net 설계\n",
    "* 입력 : 28*28\n",
    "* layer1 : 300\n",
    "* layer2 : 100\n",
    "* 출력 : 10"
   ]
  },
  {
   "cell_type": "code",
   "execution_count": 24,
   "metadata": {},
   "outputs": [
    {
     "name": "stdout",
     "output_type": "stream",
     "text": [
      "Model: \"sequential_8\"\n",
      "_________________________________________________________________\n",
      "Layer (type)                 Output Shape              Param #   \n",
      "=================================================================\n",
      "dense_23 (Dense)             (None, 300)               235500    \n",
      "_________________________________________________________________\n",
      "dense_24 (Dense)             (None, 100)               30100     \n",
      "_________________________________________________________________\n",
      "dropout_1 (Dropout)          (None, 100)               0         \n",
      "_________________________________________________________________\n",
      "dense_25 (Dense)             (None, 10)                1010      \n",
      "=================================================================\n",
      "Total params: 266,610\n",
      "Trainable params: 266,610\n",
      "Non-trainable params: 0\n",
      "_________________________________________________________________\n",
      "Train on 48000 samples, validate on 12000 samples\n",
      "Epoch 1/10\n",
      "48000/48000 [==============================] - 2s 33us/sample - loss: 0.4158 - accuracy: 0.8781 - val_loss: 0.1512 - val_accuracy: 0.9549\n",
      "Epoch 2/10\n",
      "48000/48000 [==============================] - 1s 29us/sample - loss: 0.1652 - accuracy: 0.9536 - val_loss: 0.1072 - val_accuracy: 0.9676\n",
      "Epoch 3/10\n",
      "48000/48000 [==============================] - 1s 27us/sample - loss: 0.1160 - accuracy: 0.9670 - val_loss: 0.0973 - val_accuracy: 0.9720\n",
      "Epoch 4/10\n",
      "48000/48000 [==============================] - 1s 28us/sample - loss: 0.0917 - accuracy: 0.9734 - val_loss: 0.0831 - val_accuracy: 0.9746\n",
      "Epoch 5/10\n",
      "48000/48000 [==============================] - 1s 28us/sample - loss: 0.0688 - accuracy: 0.9800 - val_loss: 0.0826 - val_accuracy: 0.9761\n",
      "Epoch 6/10\n",
      "48000/48000 [==============================] - 1s 26us/sample - loss: 0.0580 - accuracy: 0.9826 - val_loss: 0.0807 - val_accuracy: 0.9781\n",
      "Epoch 7/10\n",
      "48000/48000 [==============================] - 1s 27us/sample - loss: 0.0469 - accuracy: 0.9852 - val_loss: 0.0834 - val_accuracy: 0.9788\n",
      "Epoch 8/10\n",
      "48000/48000 [==============================] - 1s 29us/sample - loss: 0.0420 - accuracy: 0.9867 - val_loss: 0.0848 - val_accuracy: 0.9766\n",
      "Epoch 9/10\n",
      "48000/48000 [==============================] - 1s 27us/sample - loss: 0.0339 - accuracy: 0.9893 - val_loss: 0.0837 - val_accuracy: 0.9800\n",
      "Epoch 10/10\n",
      "48000/48000 [==============================] - 1s 28us/sample - loss: 0.0310 - accuracy: 0.9904 - val_loss: 0.0834 - val_accuracy: 0.9799\n",
      "10000/10000 - 1s - loss: 0.0728 - accuracy: 0.9811\n",
      "Test loss: 0.07280300706688285\n",
      "Test accuracy: 0.9811\n"
     ]
    }
   ],
   "source": [
    "model = tf.keras.Sequential([\n",
    "    tf.keras.layers.Dense(300, activation='relu', input_shape=(28*28,)),\n",
    "    tf.keras.layers.Dense(100, activation='relu'),\n",
    "    tf.keras.layers.Dropout(0.5),\n",
    "    tf.keras.layers.Dense(10, activation='softmax')])\n",
    "model.summary()\n",
    "model.compile(loss='sparse_categorical_crossentropy',\n",
    "              optimizer='adam',\n",
    "              metrics=['accuracy'])\n",
    "\n",
    "history = model.fit(X_train, y_train,\n",
    "                    batch_size=100,\n",
    "                    epochs=10,\n",
    "                    validation_split=0.2)\n",
    "\n",
    "test_scores = model.evaluate(X_test, y_test, verbose=2)\n",
    "print('Test loss:', test_scores[0])\n",
    "print('Test accuracy:', test_scores[1])"
   ]
  },
  {
   "cell_type": "markdown",
   "metadata": {},
   "source": [
    "#### 직접 쓴 숫자 prediction"
   ]
  },
  {
   "cell_type": "code",
   "execution_count": 25,
   "metadata": {
    "scrolled": true
   },
   "outputs": [
    {
     "data": {
      "image/png": "[encoded data removed]",
      "text/plain": [
       "<Figure size 432x288 with 1 Axes>"
      ]
     },
     "metadata": {
      "needs_background": "light"
     },
     "output_type": "display_data"
    },
    {
     "name": "stdout",
     "output_type": "stream",
     "text": [
      "[[9.8817492e-01 1.6209874e-06 9.9072075e-03 7.1681308e-04 1.4652636e-05\n",
      "  1.4940080e-05 2.0343365e-05 1.1697479e-04 9.0064214e-07 1.0316544e-03]] [0]\n",
      "[[5.0466191e-05 4.4826546e-04 3.5165090e-03 1.0515474e-05 9.9301320e-01\n",
      "  1.9799753e-04 1.4564622e-03 1.0353056e-03 7.0611495e-06 2.6413737e-04]] [4]\n",
      "[[3.1926036e-03 3.0947285e-04 6.4370607e-04 5.7561947e-03 5.7202438e-04\n",
      "  8.2061297e-01 1.2099824e-02 3.6135697e-04 1.0018111e-01 5.6270730e-02]] [5]\n",
      "[[4.2500912e-04 8.9232618e-04 2.6839292e-03 2.2629904e-02 1.5245330e-04\n",
      "  3.2002840e-03 6.1846361e-04 1.0983438e-04 9.6407276e-01 5.2150162e-03]] [8]\n"
     ]
    },
    {
     "data": {
      "image/png": "[encoded data removed]",
      "text/plain": [
       "<Figure size 432x288 with 4 Axes>"
      ]
     },
     "metadata": {
      "needs_background": "light"
     },
     "output_type": "display_data"
    }
   ],
   "source": [
    "import numpy as np\n",
    "import cv2\n",
    "import img2data\n",
    "\n",
    "img_path = './img/0458.png'\n",
    "\n",
    "image = cv2.imread(img_path)\n",
    "plt.imshow(image)\n",
    "plt.show()\n",
    "\n",
    "numbers = img2data.img2digits(image, (28,28), border=4)\n",
    "for i, n in enumerate(numbers):\n",
    "    pred = model.predict(n.astype(np.float32)/255.0)\n",
    "    pred_label = np.argmax(pred, axis=1)\n",
    "    print(pred, pred_label)\n",
    "    plt.subplot(1, len(numbers), i+1)\n",
    "    plt.title(str(pred_label))\n",
    "    plt.imshow(n.reshape(28,28), cmap=\"gray\")"
   ]
  }
 ],
 "metadata": {
  "kernelspec": {
   "display_name": "Python 3",
   "language": "python",
   "name": "python3"
  },
  "language_info": {
   "codemirror_mode": {
    "name": "ipython",
    "version": 3
   },
   "file_extension": ".py",
   "mimetype": "text/x-python",
   "name": "python",
   "nbconvert_exporter": "python",
   "pygments_lexer": "ipython3",
   "version": "3.7.6"
  }
 },
 "nbformat": 4,
 "nbformat_minor": 2
}
